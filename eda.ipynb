{
 "cells": [
  {
   "cell_type": "markdown",
   "metadata": {},
   "source": [
    "# EDA FOR DEPLOYED SMART-CONRACTS ON A BLOCKCHAIN"
   ]
  },
  {
   "cell_type": "markdown",
   "metadata": {},
   "source": [
    "The task involves performing an exploratory data analysis (EDA) on a dataset of smart contracts deployed on a blockchain. This dataset includes the contracts' bytecode, opcodes, and related information. The goal is to understand the dataset, identify patterns and inconsistencies, and propose potential data preprocessing and model training approaches.\n",
    "\n",
    "A smart contract is a self-executing program that runs on the blockchain. While smart contracts can perform legitimate operations, they can also be used maliciously in fraudulent schemes, such as financial scams like Ponzi schemes and exploits.\n"
   ]
  },
  {
   "cell_type": "markdown",
   "metadata": {},
   "source": [
    "The dataset contains labeled data of smart contracts deployed on various blockchain networks. It includes the following columns:\n",
    "- address - Address of the contract\n",
    "- chain_id - ID of the blockchain where the contract is deployed\n",
    "- bytecode - Compiled code that runs on the blockchain\n",
    "- opcode - Human-readable instructions derived from bytecode\n",
    "- malicious_category_l1 - First level of the malicious category\n",
    "- malicious_category_l2 - Second level of the malicious category\n",
    "- data_source - Generalized data source of the sample\n",
    "- man_validated - Boolean flag indicating if the contract label was manually reviewed\n",
    "- man_validated_by - Reviewer who performed the validation\n",
    "- comment - Comment provided by the reviewer\n",
    "- label - Label of the smart contract"
   ]
  },
  {
   "cell_type": "markdown",
   "metadata": {},
   "source": [
    "### Imports and configuration"
   ]
  },
  {
   "cell_type": "code",
   "execution_count": 1,
   "metadata": {},
   "outputs": [],
   "source": [
    "import spacy\n",
    "import numpy as np\n",
    "import pandas as pd\n",
    "import seaborn as sns\n",
    "import matplotlib.pyplot as plt\n",
    "\n",
    "pd.set_option('future.no_silent_downcasting', True)"
   ]
  },
  {
   "cell_type": "markdown",
   "metadata": {},
   "source": [
    "Importing data from local directory:"
   ]
  },
  {
   "cell_type": "code",
   "execution_count": 2,
   "metadata": {},
   "outputs": [
    {
     "name": "stdout",
     "output_type": "stream",
     "text": [
      "<class 'pandas.core.frame.DataFrame'>\n",
      "RangeIndex: 3923 entries, 0 to 3922\n",
      "Data columns (total 11 columns):\n",
      " #   Column                 Non-Null Count  Dtype \n",
      "---  ------                 --------------  ----- \n",
      " 0   address                3923 non-null   object\n",
      " 1   chain_id               3923 non-null   int64 \n",
      " 2   bytecode               3923 non-null   object\n",
      " 3   opcode                 3923 non-null   object\n",
      " 4   malicious_category_l1  550 non-null    object\n",
      " 5   malicious_category_l2  550 non-null    object\n",
      " 6   data_source            3923 non-null   object\n",
      " 7   man_validated          3791 non-null   object\n",
      " 8   man_validated_by       944 non-null    object\n",
      " 9   comment                1004 non-null   object\n",
      " 10  label                  3923 non-null   object\n",
      "dtypes: int64(1), object(10)\n",
      "memory usage: 337.3+ KB\n"
     ]
    }
   ],
   "source": [
    "data = pd.read_csv('test_dataset.csv')\n",
    "data.info()"
   ]
  },
  {
   "cell_type": "markdown",
   "metadata": {},
   "source": [
    "### Preprocessing"
   ]
  },
  {
   "cell_type": "markdown",
   "metadata": {},
   "source": [
    "##### Duplicates"
   ]
  },
  {
   "cell_type": "markdown",
   "metadata": {},
   "source": [
    "Check for duplicates in columns where there shouldn't be any.\n",
    "\n",
    "The sequence of columns with the largest number of unique values was selected: \n",
    "- `address` \n",
    "- `bytecode`\n",
    "- `opcode`\n",
    "\n",
    "Let's check the number of duplicates in them."
   ]
  },
  {
   "cell_type": "code",
   "execution_count": 3,
   "metadata": {},
   "outputs": [
    {
     "data": {
      "text/plain": [
       "{'address': 32, 'bytecode': 42, 'opcode': 18}"
      ]
     },
     "execution_count": 3,
     "metadata": {},
     "output_type": "execute_result"
    }
   ],
   "source": [
    "def count_duplicates(df, columns):\n",
    "    duplicate_counts = {}\n",
    "    for column in columns:\n",
    "        duplicate_counts[column] = df.duplicated(subset=[column], keep=False).sum()\n",
    "    return duplicate_counts\n",
    "\n",
    "unique_columns = ['address', 'bytecode', 'opcode']\n",
    "duplicate_counts = count_duplicates(data, unique_columns)\n",
    "duplicate_counts"
   ]
  },
  {
   "cell_type": "markdown",
   "metadata": {},
   "source": [
    "We can see that there are duplicates in each of these sections. I suggest checking the columns starting with the ones with the most duplicates in order to avoid unnecessary work.\n",
    "\n",
    "The first column in the analysis will be `bytecode`.\n",
    "\n",
    "The `bytecode` does not have to be unique, so it should be checked only in combination with other parameters.\n",
    "\n",
    "As a rule, if we have a duplicate `address`, `blockchain` on which the smart contract was deployed, and `bytecode`, the problem is elsewhere."
   ]
  },
  {
   "cell_type": "code",
   "execution_count": 4,
   "metadata": {},
   "outputs": [
    {
     "data": {
      "text/html": [
       "<div>\n",
       "<style scoped>\n",
       "    .dataframe tbody tr th:only-of-type {\n",
       "        vertical-align: middle;\n",
       "    }\n",
       "\n",
       "    .dataframe tbody tr th {\n",
       "        vertical-align: top;\n",
       "    }\n",
       "\n",
       "    .dataframe thead th {\n",
       "        text-align: right;\n",
       "    }\n",
       "</style>\n",
       "<table border=\"1\" class=\"dataframe\">\n",
       "  <thead>\n",
       "    <tr style=\"text-align: right;\">\n",
       "      <th></th>\n",
       "      <th>address</th>\n",
       "      <th>chain_id</th>\n",
       "      <th>bytecode</th>\n",
       "      <th>opcode</th>\n",
       "      <th>label</th>\n",
       "    </tr>\n",
       "  </thead>\n",
       "  <tbody>\n",
       "    <tr>\n",
       "      <th>180</th>\n",
       "      <td>0x1896adbe708bf91158748b3f33738ba497a69e8f</td>\n",
       "      <td>1</td>\n",
       "      <td>0x608060405234801561001057600080fd5b5060043610...</td>\n",
       "      <td>PUSH1 PUSH1 MSTORE CALLVALUE DUP1 ISZERO PUSH2...</td>\n",
       "      <td>Clean</td>\n",
       "    </tr>\n",
       "    <tr>\n",
       "      <th>1731</th>\n",
       "      <td>0x1896adbe708bf91158748b3f33738ba497a69e8f</td>\n",
       "      <td>1</td>\n",
       "      <td>0x608060405234801561001057600080fd5b5060043610...</td>\n",
       "      <td>PUSH1 PUSH1 MSTORE CALLVALUE DUP1 ISZERO PUSH2...</td>\n",
       "      <td>Clean</td>\n",
       "    </tr>\n",
       "    <tr>\n",
       "      <th>1833</th>\n",
       "      <td>0x634322671380cf1ee7bd555a77fcdd41e680d817</td>\n",
       "      <td>1</td>\n",
       "      <td>0x608060405234801561001057600080fd5b5060043610...</td>\n",
       "      <td>PUSH1 PUSH1 MSTORE CALLVALUE DUP1 ISZERO PUSH2...</td>\n",
       "      <td>Clean</td>\n",
       "    </tr>\n",
       "    <tr>\n",
       "      <th>2505</th>\n",
       "      <td>0x634322671380cf1ee7bd555a77fcdd41e680d817</td>\n",
       "      <td>1</td>\n",
       "      <td>0x608060405234801561001057600080fd5b5060043610...</td>\n",
       "      <td>PUSH1 PUSH1 MSTORE CALLVALUE DUP1 ISZERO PUSH2...</td>\n",
       "      <td>Clean</td>\n",
       "    </tr>\n",
       "    <tr>\n",
       "      <th>1066</th>\n",
       "      <td>0x831091da075665168e01898c6dac004a867f1e1b</td>\n",
       "      <td>1</td>\n",
       "      <td>0x608060405234801561001057600080fd5b5060043610...</td>\n",
       "      <td>PUSH1 PUSH1 MSTORE CALLVALUE DUP1 ISZERO PUSH2...</td>\n",
       "      <td>Clean</td>\n",
       "    </tr>\n",
       "    <tr>\n",
       "      <th>2945</th>\n",
       "      <td>0x831091da075665168e01898c6dac004a867f1e1b</td>\n",
       "      <td>1</td>\n",
       "      <td>0x608060405234801561001057600080fd5b5060043610...</td>\n",
       "      <td>PUSH1 PUSH1 MSTORE CALLVALUE DUP1 ISZERO PUSH2...</td>\n",
       "      <td>Clean</td>\n",
       "    </tr>\n",
       "    <tr>\n",
       "      <th>602</th>\n",
       "      <td>0xa489fdc65229d6225014c0b357bcd19af6f00ee9</td>\n",
       "      <td>42161</td>\n",
       "      <td>0x608060405234801561001057600080fd5b5060043610...</td>\n",
       "      <td>PUSH1 PUSH1 MSTORE CALLVALUE DUP1 ISZERO PUSH2...</td>\n",
       "      <td>Clean</td>\n",
       "    </tr>\n",
       "    <tr>\n",
       "      <th>1810</th>\n",
       "      <td>0xa489fdc65229d6225014c0b357bcd19af6f00ee9</td>\n",
       "      <td>42161</td>\n",
       "      <td>0x608060405234801561001057600080fd5b5060043610...</td>\n",
       "      <td>PUSH1 PUSH1 MSTORE CALLVALUE DUP1 ISZERO PUSH2...</td>\n",
       "      <td>Clean</td>\n",
       "    </tr>\n",
       "    <tr>\n",
       "      <th>79</th>\n",
       "      <td>0xc0a47dfe034b400b47bdad5fecda2621de6c4d95</td>\n",
       "      <td>1</td>\n",
       "      <td>0x600035601c5274010000000000000000000000000000...</td>\n",
       "      <td>PUSH1 CALLDATALOAD PUSH1 MSTORE PUSH21 0100000...</td>\n",
       "      <td>Clean</td>\n",
       "    </tr>\n",
       "    <tr>\n",
       "      <th>209</th>\n",
       "      <td>0xc0a47dfe034b400b47bdad5fecda2621de6c4d95</td>\n",
       "      <td>1</td>\n",
       "      <td>0x600035601c5274010000000000000000000000000000...</td>\n",
       "      <td>PUSH1 CALLDATALOAD PUSH1 MSTORE PUSH21 0100000...</td>\n",
       "      <td>Clean</td>\n",
       "    </tr>\n",
       "  </tbody>\n",
       "</table>\n",
       "</div>"
      ],
      "text/plain": [
       "                                         address  chain_id  \\\n",
       "180   0x1896adbe708bf91158748b3f33738ba497a69e8f         1   \n",
       "1731  0x1896adbe708bf91158748b3f33738ba497a69e8f         1   \n",
       "1833  0x634322671380cf1ee7bd555a77fcdd41e680d817         1   \n",
       "2505  0x634322671380cf1ee7bd555a77fcdd41e680d817         1   \n",
       "1066  0x831091da075665168e01898c6dac004a867f1e1b         1   \n",
       "2945  0x831091da075665168e01898c6dac004a867f1e1b         1   \n",
       "602   0xa489fdc65229d6225014c0b357bcd19af6f00ee9     42161   \n",
       "1810  0xa489fdc65229d6225014c0b357bcd19af6f00ee9     42161   \n",
       "79    0xc0a47dfe034b400b47bdad5fecda2621de6c4d95         1   \n",
       "209   0xc0a47dfe034b400b47bdad5fecda2621de6c4d95         1   \n",
       "\n",
       "                                               bytecode  \\\n",
       "180   0x608060405234801561001057600080fd5b5060043610...   \n",
       "1731  0x608060405234801561001057600080fd5b5060043610...   \n",
       "1833  0x608060405234801561001057600080fd5b5060043610...   \n",
       "2505  0x608060405234801561001057600080fd5b5060043610...   \n",
       "1066  0x608060405234801561001057600080fd5b5060043610...   \n",
       "2945  0x608060405234801561001057600080fd5b5060043610...   \n",
       "602   0x608060405234801561001057600080fd5b5060043610...   \n",
       "1810  0x608060405234801561001057600080fd5b5060043610...   \n",
       "79    0x600035601c5274010000000000000000000000000000...   \n",
       "209   0x600035601c5274010000000000000000000000000000...   \n",
       "\n",
       "                                                 opcode  label  \n",
       "180   PUSH1 PUSH1 MSTORE CALLVALUE DUP1 ISZERO PUSH2...  Clean  \n",
       "1731  PUSH1 PUSH1 MSTORE CALLVALUE DUP1 ISZERO PUSH2...  Clean  \n",
       "1833  PUSH1 PUSH1 MSTORE CALLVALUE DUP1 ISZERO PUSH2...  Clean  \n",
       "2505  PUSH1 PUSH1 MSTORE CALLVALUE DUP1 ISZERO PUSH2...  Clean  \n",
       "1066  PUSH1 PUSH1 MSTORE CALLVALUE DUP1 ISZERO PUSH2...  Clean  \n",
       "2945  PUSH1 PUSH1 MSTORE CALLVALUE DUP1 ISZERO PUSH2...  Clean  \n",
       "602   PUSH1 PUSH1 MSTORE CALLVALUE DUP1 ISZERO PUSH2...  Clean  \n",
       "1810  PUSH1 PUSH1 MSTORE CALLVALUE DUP1 ISZERO PUSH2...  Clean  \n",
       "79    PUSH1 CALLDATALOAD PUSH1 MSTORE PUSH21 0100000...  Clean  \n",
       "209   PUSH1 CALLDATALOAD PUSH1 MSTORE PUSH21 0100000...  Clean  "
      ]
     },
     "execution_count": 4,
     "metadata": {},
     "output_type": "execute_result"
    }
   ],
   "source": [
    "duplicates = data[data.duplicated(subset=['address', 'chain_id', 'bytecode'], keep=False)]\n",
    "duplicates = duplicates[['address', 'chain_id', 'bytecode', 'opcode', 'label']].sort_values(by=['address'])\n",
    "duplicates"
   ]
  },
  {
   "cell_type": "markdown",
   "metadata": {},
   "source": [
    "As we can see, 2 additional columns were added to the analysis, one of which (`opcode`) determines the difference between duplicates, and the `label` column is needed to check whether duplicates are of different classes.\n",
    "\n",
    "Since the initial part of the `opcode` is the same, we had the idea to start analyzing these str-expressions from the end, so below is the code for finding differences by `opcode` among pairwise duplicates:"
   ]
  },
  {
   "cell_type": "code",
   "execution_count": 5,
   "metadata": {},
   "outputs": [
    {
     "name": "stdout",
     "output_type": "stream",
     "text": [
      "Opcode mismatch: ['JUMP', 'POP', 'SWAP1', 'SWAP2', 'SWAP1'] != ['Opcode)', \"'bd'(Unknown\", 'Opcode)', \"'22'(Unknown\", 'STOP']\n",
      "Opcode mismatch: ['STOP', 'STOP', 'STOP', 'Opcode)', \"'c7'(Unknown\"] != ['REVERT', 'DUP1', 'PUSH1', 'JUMPI', 'PUSH2']\n",
      "Opcode mismatch: ['JUMP', 'PUSH2', 'ADD', 'PUSH1', 'SSTORE'] != ['Opcode)', \"'bd'(Unknown\", 'Opcode)', \"fe'(Unknown\", 'Opcode)']\n",
      "Opcode mismatch: ['STOP', 'STOP', 'STOP', 'Opcode)', \"fe'(Unknown\"] != ['JUMP', 'POP', 'POP', 'SWAP2', 'SWAP3']\n",
      "Opcode mismatch: ['Opcode)', \"'c7'(Unknown\", 'Opcode)', \"fe'(Unknown\", 'Opcode)'] != ['REVERT', 'PUSH1', 'PUSH1', 'JUMPDEST', 'STOP']\n"
     ]
    }
   ],
   "source": [
    "indexes_to_drop = []\n",
    "ids = []\n",
    "\n",
    "for i in range(0, len(duplicates), 2):\n",
    "    opcode1 = duplicates.iloc[i]['opcode'].split()\n",
    "    opcode1.reverse()\n",
    "    opcode2 = duplicates.iloc[i + 1]['opcode'].split()\n",
    "    opcode2.reverse()\n",
    "    \n",
    "    for j in range(len(opcode1)):\n",
    "        if opcode1[j] != opcode2[j]:\n",
    "            print(f\"Opcode mismatch: {opcode1[j:j+5]} != {opcode2[j:j+5]}\")\n",
    "            for n in opcode1[j:j+5]:\n",
    "                if not n.isupper():\n",
    "                    indexes_to_drop.append(i)\n",
    "                    break\n",
    "            for n in opcode2[j:j+5]:\n",
    "                if not n.isupper():\n",
    "                    indexes_to_drop.append(i + 1)\n",
    "                    break\n",
    "            break\n",
    "            \n",
    "for index in indexes_to_drop:\n",
    "    ids.append(duplicates.iloc[index])\n",
    "\n",
    "ids = pd.DataFrame(ids)\n",
    "\n",
    "data.drop(ids.index, inplace=True)\n"
   ]
  },
  {
   "cell_type": "markdown",
   "metadata": {},
   "source": [
    "As a result, we get the following situation: one of the pair of duplicates has artifacts that do not look like the general style of the presented opcode. That is, bracketed characters, lower-cases, and Unknown values.\n",
    "\n",
    "Therefore, in order to get rid of duplicates, I decided to remove the line indices that had potential artifacts.\n",
    "\n",
    "Theoretically, this was a problem in the bytecode decryption itself and because of the difference between existing instances, these duplicates were added to the dataset."
   ]
  },
  {
   "cell_type": "code",
   "execution_count": 6,
   "metadata": {},
   "outputs": [
    {
     "data": {
      "text/html": [
       "<div>\n",
       "<style scoped>\n",
       "    .dataframe tbody tr th:only-of-type {\n",
       "        vertical-align: middle;\n",
       "    }\n",
       "\n",
       "    .dataframe tbody tr th {\n",
       "        vertical-align: top;\n",
       "    }\n",
       "\n",
       "    .dataframe thead th {\n",
       "        text-align: right;\n",
       "    }\n",
       "</style>\n",
       "<table border=\"1\" class=\"dataframe\">\n",
       "  <thead>\n",
       "    <tr style=\"text-align: right;\">\n",
       "      <th></th>\n",
       "      <th>address</th>\n",
       "      <th>chain_id</th>\n",
       "      <th>bytecode</th>\n",
       "      <th>opcode</th>\n",
       "      <th>label</th>\n",
       "    </tr>\n",
       "  </thead>\n",
       "  <tbody>\n",
       "  </tbody>\n",
       "</table>\n",
       "</div>"
      ],
      "text/plain": [
       "Empty DataFrame\n",
       "Columns: [address, chain_id, bytecode, opcode, label]\n",
       "Index: []"
      ]
     },
     "execution_count": 6,
     "metadata": {},
     "output_type": "execute_result"
    }
   ],
   "source": [
    "duplicates = data[data.duplicated(subset=['address', 'chain_id', 'bytecode'], keep=False)]\n",
    "duplicates = duplicates[['address', 'chain_id', 'bytecode', 'opcode', 'label']].sort_values(by=['address'])\n",
    "duplicates"
   ]
  },
  {
   "cell_type": "markdown",
   "metadata": {},
   "source": [
    "Let's move on to the next column that has duplicates: `address`.\n",
    "\n",
    "The general rule for the uniqueness of smart contract `addresses` is that they must be unique within the same `blockchain`.\n",
    "\n",
    "Therefore, let's check the unique `blockchain id` and `labels` to prevent the situation when instances with the same address have different classes."
   ]
  },
  {
   "cell_type": "code",
   "execution_count": 7,
   "metadata": {},
   "outputs": [
    {
     "data": {
      "text/html": [
       "<div>\n",
       "<style scoped>\n",
       "    .dataframe tbody tr th:only-of-type {\n",
       "        vertical-align: middle;\n",
       "    }\n",
       "\n",
       "    .dataframe tbody tr th {\n",
       "        vertical-align: top;\n",
       "    }\n",
       "\n",
       "    .dataframe thead th {\n",
       "        text-align: right;\n",
       "    }\n",
       "</style>\n",
       "<table border=\"1\" class=\"dataframe\">\n",
       "  <thead>\n",
       "    <tr style=\"text-align: right;\">\n",
       "      <th></th>\n",
       "      <th>I</th>\n",
       "      <th>II</th>\n",
       "      <th>Address</th>\n",
       "    </tr>\n",
       "  </thead>\n",
       "  <tbody>\n",
       "    <tr>\n",
       "      <th>0</th>\n",
       "      <td>(43114, Clean)</td>\n",
       "      <td>(42161, Clean)</td>\n",
       "      <td>0x23208b91a98c7c1cd9fe63085bff68311494f193</td>\n",
       "    </tr>\n",
       "    <tr>\n",
       "      <th>1</th>\n",
       "      <td>(1, Clean)</td>\n",
       "      <td>(42161, Clean)</td>\n",
       "      <td>0x26cfb7ef8fce43c8819b33c02f3d0498072e6fe1</td>\n",
       "    </tr>\n",
       "    <tr>\n",
       "      <th>2</th>\n",
       "      <td>(137, Clean)</td>\n",
       "      <td>(1, Clean)</td>\n",
       "      <td>0x2e96068b3d5b5bae3d7515da4a1d2e52d08a2647</td>\n",
       "    </tr>\n",
       "    <tr>\n",
       "      <th>3</th>\n",
       "      <td>(43114, Clean)</td>\n",
       "      <td>(42161, Clean)</td>\n",
       "      <td>0x64b57f4249aa99a812212cee7daefedc40b203cd</td>\n",
       "    </tr>\n",
       "    <tr>\n",
       "      <th>4</th>\n",
       "      <td>(43114, Exploit)</td>\n",
       "      <td>(1, Exploit)</td>\n",
       "      <td>0x8c425ee62d18b65cc975767c27c42de548d133a1</td>\n",
       "    </tr>\n",
       "    <tr>\n",
       "      <th>5</th>\n",
       "      <td>(56, Clean)</td>\n",
       "      <td>(137, Clean)</td>\n",
       "      <td>0x8ef71fde0681f567d241a2cb7f2ae46d6d709d30</td>\n",
       "    </tr>\n",
       "    <tr>\n",
       "      <th>6</th>\n",
       "      <td>(56, Clean)</td>\n",
       "      <td>(1, Clean)</td>\n",
       "      <td>0x9bbdef63594d5ffc2f370fe52115ddffe97bc524</td>\n",
       "    </tr>\n",
       "    <tr>\n",
       "      <th>7</th>\n",
       "      <td>(43114, Exploit)</td>\n",
       "      <td>(56, Exploit)</td>\n",
       "      <td>0x9be508ce41ae5795e1ebc247101c40da7d5742db</td>\n",
       "    </tr>\n",
       "    <tr>\n",
       "      <th>8</th>\n",
       "      <td>(43114, Clean)</td>\n",
       "      <td>(56, Clean)</td>\n",
       "      <td>0xb4315e873dbcf96ffd0acd8ea43f689d8c20fb30</td>\n",
       "    </tr>\n",
       "    <tr>\n",
       "      <th>9</th>\n",
       "      <td>(137, Exploit)</td>\n",
       "      <td>(1, Exploit)</td>\n",
       "      <td>0xdfcdb5a86b167b3a418f3909d6f7a2f2873f2969</td>\n",
       "    </tr>\n",
       "    <tr>\n",
       "      <th>10</th>\n",
       "      <td>(137, Clean)</td>\n",
       "      <td>(42161, Clean)</td>\n",
       "      <td>0xe2a113cb9a5f7b4d37ce695bfada59dc4c08cc2b</td>\n",
       "    </tr>\n",
       "  </tbody>\n",
       "</table>\n",
       "</div>"
      ],
      "text/plain": [
       "                   I              II  \\\n",
       "0     (43114, Clean)  (42161, Clean)   \n",
       "1         (1, Clean)  (42161, Clean)   \n",
       "2       (137, Clean)      (1, Clean)   \n",
       "3     (43114, Clean)  (42161, Clean)   \n",
       "4   (43114, Exploit)    (1, Exploit)   \n",
       "5        (56, Clean)    (137, Clean)   \n",
       "6        (56, Clean)      (1, Clean)   \n",
       "7   (43114, Exploit)   (56, Exploit)   \n",
       "8     (43114, Clean)     (56, Clean)   \n",
       "9     (137, Exploit)    (1, Exploit)   \n",
       "10      (137, Clean)  (42161, Clean)   \n",
       "\n",
       "                                       Address  \n",
       "0   0x23208b91a98c7c1cd9fe63085bff68311494f193  \n",
       "1   0x26cfb7ef8fce43c8819b33c02f3d0498072e6fe1  \n",
       "2   0x2e96068b3d5b5bae3d7515da4a1d2e52d08a2647  \n",
       "3   0x64b57f4249aa99a812212cee7daefedc40b203cd  \n",
       "4   0x8c425ee62d18b65cc975767c27c42de548d133a1  \n",
       "5   0x8ef71fde0681f567d241a2cb7f2ae46d6d709d30  \n",
       "6   0x9bbdef63594d5ffc2f370fe52115ddffe97bc524  \n",
       "7   0x9be508ce41ae5795e1ebc247101c40da7d5742db  \n",
       "8   0xb4315e873dbcf96ffd0acd8ea43f689d8c20fb30  \n",
       "9   0xdfcdb5a86b167b3a418f3909d6f7a2f2873f2969  \n",
       "10  0xe2a113cb9a5f7b4d37ce695bfada59dc4c08cc2b  "
      ]
     },
     "execution_count": 7,
     "metadata": {},
     "output_type": "execute_result"
    }
   ],
   "source": [
    "duplicate_addresses = data[data.duplicated(subset=['address'], keep=False)]\n",
    "\n",
    "output = []\n",
    "\n",
    "for address, group in duplicate_addresses.groupby('address'):\n",
    "    for i in range(len(group)):\n",
    "        for j in range(i + 1, len(group)):\n",
    "            row1 = group.iloc[i]\n",
    "            row2 = group.iloc[j]\n",
    "            output.append({\n",
    "                'I': (row1['chain_id'], row1['label']),\n",
    "                'II': (row2['chain_id'], row2['label']),\n",
    "                'Address': address\n",
    "            })\n",
    "\n",
    "output_df = pd.DataFrame(output)\n",
    "output_df"
   ]
  },
  {
   "cell_type": "markdown",
   "metadata": {},
   "source": [
    "As you can see from the table above, all duplicates in the `address` column have different `blockchains` and identical `labels`, which is why these duplicates do not require any manipulation.\n",
    "\n",
    "Let's move on to the last column with potential duplicates.\n",
    "\n",
    "Duplicate `opcodes` can exist only if one `opcode` instance corresponds to only one `bytecode` instance. Accordingly, let's check all duplicates for `bytecode` similarity and, at the same time, make sure that the same code was not deployed on the same `blockchain`.\n"
   ]
  },
  {
   "cell_type": "code",
   "execution_count": 8,
   "metadata": {},
   "outputs": [
    {
     "data": {
      "text/html": [
       "<div>\n",
       "<style scoped>\n",
       "    .dataframe tbody tr th:only-of-type {\n",
       "        vertical-align: middle;\n",
       "    }\n",
       "\n",
       "    .dataframe tbody tr th {\n",
       "        vertical-align: top;\n",
       "    }\n",
       "\n",
       "    .dataframe thead th {\n",
       "        text-align: right;\n",
       "    }\n",
       "</style>\n",
       "<table border=\"1\" class=\"dataframe\">\n",
       "  <thead>\n",
       "    <tr style=\"text-align: right;\">\n",
       "      <th></th>\n",
       "      <th>same_bytecode</th>\n",
       "      <th>label_1</th>\n",
       "      <th>label_2</th>\n",
       "      <th>chain_id_1</th>\n",
       "      <th>chain_id_2</th>\n",
       "      <th>opcode</th>\n",
       "    </tr>\n",
       "  </thead>\n",
       "  <tbody>\n",
       "    <tr>\n",
       "      <th>0</th>\n",
       "      <td>True</td>\n",
       "      <td>Clean</td>\n",
       "      <td>Clean</td>\n",
       "      <td>10</td>\n",
       "      <td>56</td>\n",
       "      <td>PUSH1 PUSH1 MSTORE CALLVALUE DUP1 ISZERO PUSH1...</td>\n",
       "    </tr>\n",
       "    <tr>\n",
       "      <th>1</th>\n",
       "      <td>True</td>\n",
       "      <td>Clean</td>\n",
       "      <td>Clean</td>\n",
       "      <td>10</td>\n",
       "      <td>42161</td>\n",
       "      <td>PUSH1 PUSH1 MSTORE CALLVALUE DUP1 ISZERO PUSH2...</td>\n",
       "    </tr>\n",
       "    <tr>\n",
       "      <th>2</th>\n",
       "      <td>True</td>\n",
       "      <td>Clean</td>\n",
       "      <td>Clean</td>\n",
       "      <td>56</td>\n",
       "      <td>10</td>\n",
       "      <td>PUSH1 PUSH1 MSTORE CALLVALUE DUP1 ISZERO PUSH2...</td>\n",
       "    </tr>\n",
       "    <tr>\n",
       "      <th>3</th>\n",
       "      <td>True</td>\n",
       "      <td>Clean</td>\n",
       "      <td>Clean</td>\n",
       "      <td>10</td>\n",
       "      <td>42161</td>\n",
       "      <td>PUSH1 PUSH1 MSTORE PUSH1 CALLDATASIZE LT PUSH2...</td>\n",
       "    </tr>\n",
       "    <tr>\n",
       "      <th>4</th>\n",
       "      <td>False</td>\n",
       "      <td>Clean</td>\n",
       "      <td>Clean</td>\n",
       "      <td>10</td>\n",
       "      <td>42161</td>\n",
       "      <td>PUSH1 PUSH1 MSTORE PUSH1 CALLDATASIZE LT PUSH2...</td>\n",
       "    </tr>\n",
       "    <tr>\n",
       "      <th>5</th>\n",
       "      <td>True</td>\n",
       "      <td>Clean</td>\n",
       "      <td>Clean</td>\n",
       "      <td>10</td>\n",
       "      <td>42161</td>\n",
       "      <td>PUSH1 PUSH1 MSTORE PUSH1 CALLDATASIZE LT PUSH2...</td>\n",
       "    </tr>\n",
       "    <tr>\n",
       "      <th>6</th>\n",
       "      <td>False</td>\n",
       "      <td>Clean</td>\n",
       "      <td>Clean</td>\n",
       "      <td>10</td>\n",
       "      <td>42161</td>\n",
       "      <td>PUSH1 PUSH1 MSTORE PUSH1 CALLDATASIZE LT PUSH2...</td>\n",
       "    </tr>\n",
       "    <tr>\n",
       "      <th>7</th>\n",
       "      <td>False</td>\n",
       "      <td>Clean</td>\n",
       "      <td>Clean</td>\n",
       "      <td>10</td>\n",
       "      <td>42161</td>\n",
       "      <td>PUSH1 PUSH1 MSTORE PUSH1 CALLDATASIZE LT PUSH2...</td>\n",
       "    </tr>\n",
       "    <tr>\n",
       "      <th>8</th>\n",
       "      <td>True</td>\n",
       "      <td>Clean</td>\n",
       "      <td>Clean</td>\n",
       "      <td>137</td>\n",
       "      <td>10</td>\n",
       "      <td>PUSH1 PUSH1 MSTORE PUSH1 CALLDATASIZE LT PUSH2...</td>\n",
       "    </tr>\n",
       "  </tbody>\n",
       "</table>\n",
       "</div>"
      ],
      "text/plain": [
       "   same_bytecode label_1 label_2  chain_id_1  chain_id_2  \\\n",
       "0           True   Clean   Clean          10          56   \n",
       "1           True   Clean   Clean          10       42161   \n",
       "2           True   Clean   Clean          56          10   \n",
       "3           True   Clean   Clean          10       42161   \n",
       "4          False   Clean   Clean          10       42161   \n",
       "5           True   Clean   Clean          10       42161   \n",
       "6          False   Clean   Clean          10       42161   \n",
       "7          False   Clean   Clean          10       42161   \n",
       "8           True   Clean   Clean         137          10   \n",
       "\n",
       "                                              opcode  \n",
       "0  PUSH1 PUSH1 MSTORE CALLVALUE DUP1 ISZERO PUSH1...  \n",
       "1  PUSH1 PUSH1 MSTORE CALLVALUE DUP1 ISZERO PUSH2...  \n",
       "2  PUSH1 PUSH1 MSTORE CALLVALUE DUP1 ISZERO PUSH2...  \n",
       "3  PUSH1 PUSH1 MSTORE PUSH1 CALLDATASIZE LT PUSH2...  \n",
       "4  PUSH1 PUSH1 MSTORE PUSH1 CALLDATASIZE LT PUSH2...  \n",
       "5  PUSH1 PUSH1 MSTORE PUSH1 CALLDATASIZE LT PUSH2...  \n",
       "6  PUSH1 PUSH1 MSTORE PUSH1 CALLDATASIZE LT PUSH2...  \n",
       "7  PUSH1 PUSH1 MSTORE PUSH1 CALLDATASIZE LT PUSH2...  \n",
       "8  PUSH1 PUSH1 MSTORE PUSH1 CALLDATASIZE LT PUSH2...  "
      ]
     },
     "execution_count": 8,
     "metadata": {},
     "output_type": "execute_result"
    }
   ],
   "source": [
    "duplicate_opcodes = data[data.duplicated('opcode', keep=False)].sort_values(by='opcode')\n",
    "\n",
    "pairs_info = []\n",
    "indices_to_remove = []\n",
    "\n",
    "for opcode, group in duplicate_opcodes.groupby('opcode'):\n",
    "    # Assume exactly 2 rows in 'group'\n",
    "    if len(group) == 2:\n",
    "        row1 = group.iloc[0]\n",
    "        row2 = group.iloc[1]\n",
    "        same_bc = (row1['bytecode'] == row2['bytecode'])\n",
    "        \n",
    "        pairs_info.append({\n",
    "            'same_bytecode': same_bc,\n",
    "            'label_1': row1['label'],\n",
    "            'label_2': row2['label'],\n",
    "            'chain_id_1': row1['chain_id'],\n",
    "            'chain_id_2': row2['chain_id'],\n",
    "            'opcode': opcode\n",
    "        })\n",
    "        \n",
    "        if not same_bc:\n",
    "            indices_to_remove.extend(group.index)\n",
    "    else:\n",
    "        print(f\"Unexpected group size: {len(group)}\")\n",
    "\n",
    "output_df = pd.DataFrame(pairs_info)\n",
    "output_df\n"
   ]
  },
  {
   "cell_type": "markdown",
   "metadata": {},
   "source": [
    "As we can see, there are 3 pairs in the duplicate set that do not match the `bytecode`, so to eliminate possible inaccuracies, these pairs will be removed from the final data set."
   ]
  },
  {
   "cell_type": "code",
   "execution_count": 9,
   "metadata": {},
   "outputs": [],
   "source": [
    "data.drop(indices_to_remove, inplace=True)"
   ]
  },
  {
   "cell_type": "markdown",
   "metadata": {},
   "source": [
    "Here are the results of the removal:"
   ]
  },
  {
   "cell_type": "code",
   "execution_count": 10,
   "metadata": {},
   "outputs": [
    {
     "data": {
      "text/html": [
       "<div>\n",
       "<style scoped>\n",
       "    .dataframe tbody tr th:only-of-type {\n",
       "        vertical-align: middle;\n",
       "    }\n",
       "\n",
       "    .dataframe tbody tr th {\n",
       "        vertical-align: top;\n",
       "    }\n",
       "\n",
       "    .dataframe thead th {\n",
       "        text-align: right;\n",
       "    }\n",
       "</style>\n",
       "<table border=\"1\" class=\"dataframe\">\n",
       "  <thead>\n",
       "    <tr style=\"text-align: right;\">\n",
       "      <th></th>\n",
       "      <th>same_bytecode</th>\n",
       "      <th>label_1</th>\n",
       "      <th>label_2</th>\n",
       "      <th>chain_id_1</th>\n",
       "      <th>chain_id_2</th>\n",
       "      <th>opcode</th>\n",
       "    </tr>\n",
       "  </thead>\n",
       "  <tbody>\n",
       "    <tr>\n",
       "      <th>0</th>\n",
       "      <td>True</td>\n",
       "      <td>Clean</td>\n",
       "      <td>Clean</td>\n",
       "      <td>10</td>\n",
       "      <td>56</td>\n",
       "      <td>PUSH1 PUSH1 MSTORE CALLVALUE DUP1 ISZERO PUSH1...</td>\n",
       "    </tr>\n",
       "    <tr>\n",
       "      <th>1</th>\n",
       "      <td>True</td>\n",
       "      <td>Clean</td>\n",
       "      <td>Clean</td>\n",
       "      <td>42161</td>\n",
       "      <td>10</td>\n",
       "      <td>PUSH1 PUSH1 MSTORE CALLVALUE DUP1 ISZERO PUSH2...</td>\n",
       "    </tr>\n",
       "    <tr>\n",
       "      <th>2</th>\n",
       "      <td>True</td>\n",
       "      <td>Clean</td>\n",
       "      <td>Clean</td>\n",
       "      <td>10</td>\n",
       "      <td>56</td>\n",
       "      <td>PUSH1 PUSH1 MSTORE CALLVALUE DUP1 ISZERO PUSH2...</td>\n",
       "    </tr>\n",
       "    <tr>\n",
       "      <th>3</th>\n",
       "      <td>True</td>\n",
       "      <td>Clean</td>\n",
       "      <td>Clean</td>\n",
       "      <td>42161</td>\n",
       "      <td>10</td>\n",
       "      <td>PUSH1 PUSH1 MSTORE PUSH1 CALLDATASIZE LT PUSH2...</td>\n",
       "    </tr>\n",
       "    <tr>\n",
       "      <th>4</th>\n",
       "      <td>True</td>\n",
       "      <td>Clean</td>\n",
       "      <td>Clean</td>\n",
       "      <td>10</td>\n",
       "      <td>42161</td>\n",
       "      <td>PUSH1 PUSH1 MSTORE PUSH1 CALLDATASIZE LT PUSH2...</td>\n",
       "    </tr>\n",
       "    <tr>\n",
       "      <th>5</th>\n",
       "      <td>True</td>\n",
       "      <td>Clean</td>\n",
       "      <td>Clean</td>\n",
       "      <td>137</td>\n",
       "      <td>10</td>\n",
       "      <td>PUSH1 PUSH1 MSTORE PUSH1 CALLDATASIZE LT PUSH2...</td>\n",
       "    </tr>\n",
       "  </tbody>\n",
       "</table>\n",
       "</div>"
      ],
      "text/plain": [
       "   same_bytecode label_1 label_2  chain_id_1  chain_id_2  \\\n",
       "0           True   Clean   Clean          10          56   \n",
       "1           True   Clean   Clean       42161          10   \n",
       "2           True   Clean   Clean          10          56   \n",
       "3           True   Clean   Clean       42161          10   \n",
       "4           True   Clean   Clean          10       42161   \n",
       "5           True   Clean   Clean         137          10   \n",
       "\n",
       "                                              opcode  \n",
       "0  PUSH1 PUSH1 MSTORE CALLVALUE DUP1 ISZERO PUSH1...  \n",
       "1  PUSH1 PUSH1 MSTORE CALLVALUE DUP1 ISZERO PUSH2...  \n",
       "2  PUSH1 PUSH1 MSTORE CALLVALUE DUP1 ISZERO PUSH2...  \n",
       "3  PUSH1 PUSH1 MSTORE PUSH1 CALLDATASIZE LT PUSH2...  \n",
       "4  PUSH1 PUSH1 MSTORE PUSH1 CALLDATASIZE LT PUSH2...  \n",
       "5  PUSH1 PUSH1 MSTORE PUSH1 CALLDATASIZE LT PUSH2...  "
      ]
     },
     "execution_count": 10,
     "metadata": {},
     "output_type": "execute_result"
    }
   ],
   "source": [
    "duplicate_opcodes = data[data.duplicated(subset=['opcode'], keep=False)]\n",
    "\n",
    "output = []\n",
    "\n",
    "for opcode, group in duplicate_opcodes.groupby('opcode'):\n",
    "    for i in range(len(group)):\n",
    "        for j in range(i + 1, len(group)):\n",
    "            row1 = group.iloc[i]\n",
    "            row2 = group.iloc[j]\n",
    "            same_bytecode = row1['bytecode'] == row2['bytecode']\n",
    "            output.append({\n",
    "                'same_bytecode': same_bytecode,\n",
    "                'label_1': row1['label'],\n",
    "                'label_2': row2['label'],\n",
    "                'chain_id_1': row1['chain_id'],\n",
    "                'chain_id_2': row2['chain_id'],\n",
    "                'opcode': opcode\n",
    "            })\n",
    "\n",
    "output_df = pd.DataFrame(output)\n",
    "output_df"
   ]
  },
  {
   "cell_type": "markdown",
   "metadata": {},
   "source": [
    "##### Empty values"
   ]
  },
  {
   "cell_type": "markdown",
   "metadata": {},
   "source": [
    "With the duplicates done, let's move on to processing the columns that have empty values.\n",
    "\n",
    "The first of them will be `malicious_category_l1` and `malicious_category_l2`.\n",
    "\n",
    "We display the total ratio by class and the number of instances in the above columns:"
   ]
  },
  {
   "cell_type": "code",
   "execution_count": 11,
   "metadata": {},
   "outputs": [
    {
     "name": "stdout",
     "output_type": "stream",
     "text": [
      "Value counts in label\n",
      "Clean            3363\n",
      "Exploit           349\n",
      "FinancialScam     200\n",
      "Name: count, dtype: int64\n",
      "\n",
      "Value counts in malicious_category_l1\n",
      "Cyber    349\n",
      "Fraud    201\n",
      "Name: count, dtype: int64\n",
      "\n",
      "Value counts in malicious_category_l2\n",
      "Exploit          349\n",
      "FinancialScam    201\n",
      "Name: count, dtype: int64\n"
     ]
    }
   ],
   "source": [
    "print(f\"Value counts in {data['label'].value_counts()}\", end='\\n\\n')\n",
    "print(f\"Value counts in {data['malicious_category_l1'].value_counts()}\", end='\\n\\n')\n",
    "print(f\"Value counts in {data['malicious_category_l2'].value_counts()}\")"
   ]
  },
  {
   "cell_type": "markdown",
   "metadata": {},
   "source": [
    "We can see that the columns match our `label`, but there is a difference of one instance. \n",
    "\n",
    "Let's try to find this difference."
   ]
  },
  {
   "cell_type": "code",
   "execution_count": 12,
   "metadata": {},
   "outputs": [
    {
     "data": {
      "text/html": [
       "<div>\n",
       "<style scoped>\n",
       "    .dataframe tbody tr th:only-of-type {\n",
       "        vertical-align: middle;\n",
       "    }\n",
       "\n",
       "    .dataframe tbody tr th {\n",
       "        vertical-align: top;\n",
       "    }\n",
       "\n",
       "    .dataframe thead th {\n",
       "        text-align: right;\n",
       "    }\n",
       "</style>\n",
       "<table border=\"1\" class=\"dataframe\">\n",
       "  <thead>\n",
       "    <tr style=\"text-align: right;\">\n",
       "      <th></th>\n",
       "      <th>address</th>\n",
       "      <th>chain_id</th>\n",
       "      <th>bytecode</th>\n",
       "      <th>opcode</th>\n",
       "      <th>malicious_category_l1</th>\n",
       "      <th>malicious_category_l2</th>\n",
       "      <th>data_source</th>\n",
       "      <th>man_validated</th>\n",
       "      <th>man_validated_by</th>\n",
       "      <th>comment</th>\n",
       "      <th>label</th>\n",
       "    </tr>\n",
       "  </thead>\n",
       "  <tbody>\n",
       "    <tr>\n",
       "      <th>2242</th>\n",
       "      <td>0x71f57929a3c4387dc9573413059a9dc8b106bdce</td>\n",
       "      <td>56</td>\n",
       "      <td>0x608060405234801561001057600080fd5b5060043610...</td>\n",
       "      <td>PUSH1 PUSH1 MSTORE CALLVALUE DUP1 ISZERO PUSH2...</td>\n",
       "      <td>Fraud</td>\n",
       "      <td>FinancialScam</td>\n",
       "      <td>Public_Historical_Data</td>\n",
       "      <td>NaN</td>\n",
       "      <td>NaN</td>\n",
       "      <td>reported by HashDit, ponzi</td>\n",
       "      <td>Clean</td>\n",
       "    </tr>\n",
       "  </tbody>\n",
       "</table>\n",
       "</div>"
      ],
      "text/plain": [
       "                                         address  chain_id  \\\n",
       "2242  0x71f57929a3c4387dc9573413059a9dc8b106bdce        56   \n",
       "\n",
       "                                               bytecode  \\\n",
       "2242  0x608060405234801561001057600080fd5b5060043610...   \n",
       "\n",
       "                                                 opcode malicious_category_l1  \\\n",
       "2242  PUSH1 PUSH1 MSTORE CALLVALUE DUP1 ISZERO PUSH2...                 Fraud   \n",
       "\n",
       "     malicious_category_l2             data_source man_validated  \\\n",
       "2242         FinancialScam  Public_Historical_Data           NaN   \n",
       "\n",
       "     man_validated_by                     comment  label  \n",
       "2242              NaN  reported by HashDit, ponzi  Clean  "
      ]
     },
     "execution_count": 12,
     "metadata": {},
     "output_type": "execute_result"
    }
   ],
   "source": [
    "data_copy = data.copy()\n",
    "data_copy = data_copy.dropna(subset=['malicious_category_l2'])\n",
    "mismatch_rows = data_copy[data_copy['malicious_category_l2'] != data_copy['label']]\n",
    "mismatch_rows"
   ]
  },
  {
   "cell_type": "markdown",
   "metadata": {},
   "source": [
    "We can see that the only instance that doesn't match the `label` has a comment that says it was a pyramid (ponzi) scheme report. \n",
    "\n",
    "Therefore, I can conclude that the `label` with the value Clean is false. In order not to lose a single instance of data of a negative class, we assign the FinancialScam class to this instance."
   ]
  },
  {
   "cell_type": "code",
   "execution_count": 13,
   "metadata": {},
   "outputs": [
    {
     "name": "stdout",
     "output_type": "stream",
     "text": [
      "Number of mismatched rows: 0\n"
     ]
    }
   ],
   "source": [
    "data.loc[mismatch_rows.index, 'label'] = data.loc[mismatch_rows.index, 'malicious_category_l2']\n",
    "\n",
    "temp_data = data.copy().dropna(subset=['malicious_category_l2'])\n",
    "mismatch_rows_updated = temp_data[temp_data['malicious_category_l2'] != temp_data['label']]\n",
    "\n",
    "print(f\"Number of mismatched rows: {len(mismatch_rows_updated)}\")"
   ]
  },
  {
   "cell_type": "markdown",
   "metadata": {},
   "source": [
    "Now the situation is as follows: the `malicious_category_l1` and `malicious_category_l2` columns completely duplicate the information in our label, so there is no point in using them in the future."
   ]
  },
  {
   "cell_type": "code",
   "execution_count": 14,
   "metadata": {},
   "outputs": [],
   "source": [
    "data.drop(['malicious_category_l1', 'malicious_category_l2'], axis=1, inplace=True)"
   ]
  },
  {
   "cell_type": "markdown",
   "metadata": {},
   "source": [
    "Let's move on to the next column `man_validated`.\n",
    "\n",
    "It should store boolean values of whether the instance was manually validated.\n",
    "\n",
    "In order to fill in the empty values, you need to make sure that there is no situation where there is a validating person, but there is no mark that the person has validated."
   ]
  },
  {
   "cell_type": "code",
   "execution_count": 15,
   "metadata": {},
   "outputs": [
    {
     "name": "stdout",
     "output_type": "stream",
     "text": [
      "Number of rows with None in man_validated and not None in man_validated_by: 0\n"
     ]
    }
   ],
   "source": [
    "filtered_data = data[data['man_validated'].isnull() & data['man_validated_by'].notnull()]\n",
    "print(f\"Number of rows with None in man_validated and not None in man_validated_by: {len(filtered_data)}\")"
   ]
  },
  {
   "cell_type": "markdown",
   "metadata": {},
   "source": [
    "Since there are no such situations, it would be logical to say that this instance was not manually checked, respectively, empty values can be filled with False."
   ]
  },
  {
   "cell_type": "code",
   "execution_count": 16,
   "metadata": {},
   "outputs": [],
   "source": [
    "data['man_validated'] = data['man_validated'].fillna(False)"
   ]
  },
  {
   "cell_type": "markdown",
   "metadata": {},
   "source": [
    "Let's move on to the next column, `man_validated_by`.\n",
    "This is the column that shows who was the reviewer of a particular instance. Let's see what values are available."
   ]
  },
  {
   "cell_type": "code",
   "execution_count": 17,
   "metadata": {},
   "outputs": [
    {
     "name": "stdout",
     "output_type": "stream",
     "text": [
      "Value counts in man_validated_by\n",
      "Reviewer2    525\n",
      "Reviewer1    248\n",
      "Reviewer3    164\n",
      "Reviewer4      1\n",
      "Name: count, dtype: int64\n",
      "\n",
      "Count of null values in man_validated_by: 2974\n"
     ]
    }
   ],
   "source": [
    "print(f\"Value counts in {data['man_validated_by'].value_counts()}\", end='\\n\\n')\n",
    "print(f\"Count of null values in man_validated_by: {data['man_validated_by'].isnull().sum()}\")"
   ]
  },
  {
   "cell_type": "markdown",
   "metadata": {},
   "source": [
    "We can see that we have one unique case and a huge number of missing values.\n",
    "\n",
    "First, let's consider the unique case and whether it should be excluded from the dataset."
   ]
  },
  {
   "cell_type": "code",
   "execution_count": 18,
   "metadata": {},
   "outputs": [
    {
     "data": {
      "text/html": [
       "<div>\n",
       "<style scoped>\n",
       "    .dataframe tbody tr th:only-of-type {\n",
       "        vertical-align: middle;\n",
       "    }\n",
       "\n",
       "    .dataframe tbody tr th {\n",
       "        vertical-align: top;\n",
       "    }\n",
       "\n",
       "    .dataframe thead th {\n",
       "        text-align: right;\n",
       "    }\n",
       "</style>\n",
       "<table border=\"1\" class=\"dataframe\">\n",
       "  <thead>\n",
       "    <tr style=\"text-align: right;\">\n",
       "      <th></th>\n",
       "      <th>address</th>\n",
       "      <th>chain_id</th>\n",
       "      <th>bytecode</th>\n",
       "      <th>opcode</th>\n",
       "      <th>data_source</th>\n",
       "      <th>man_validated</th>\n",
       "      <th>man_validated_by</th>\n",
       "      <th>comment</th>\n",
       "      <th>label</th>\n",
       "    </tr>\n",
       "  </thead>\n",
       "  <tbody>\n",
       "    <tr>\n",
       "      <th>2908</th>\n",
       "      <td>0x3816A80F324B8f6F34cF76E5Ba9A256130d37f50</td>\n",
       "      <td>42161</td>\n",
       "      <td>0x608060405234801561001057600080fd5b5060043610...</td>\n",
       "      <td>PUSH1 PUSH1 MSTORE CALLVALUE DUP1 ISZERO PUSH2...</td>\n",
       "      <td>Public_Historical_Data</td>\n",
       "      <td>True</td>\n",
       "      <td>Reviewer4</td>\n",
       "      <td>Deployer:  N/A, re-entrency attack contract.</td>\n",
       "      <td>Exploit</td>\n",
       "    </tr>\n",
       "  </tbody>\n",
       "</table>\n",
       "</div>"
      ],
      "text/plain": [
       "                                         address  chain_id  \\\n",
       "2908  0x3816A80F324B8f6F34cF76E5Ba9A256130d37f50     42161   \n",
       "\n",
       "                                               bytecode  \\\n",
       "2908  0x608060405234801561001057600080fd5b5060043610...   \n",
       "\n",
       "                                                 opcode  \\\n",
       "2908  PUSH1 PUSH1 MSTORE CALLVALUE DUP1 ISZERO PUSH2...   \n",
       "\n",
       "                 data_source man_validated man_validated_by  \\\n",
       "2908  Public_Historical_Data          True        Reviewer4   \n",
       "\n",
       "                                           comment    label  \n",
       "2908  Deployer:  N/A, re-entrency attack contract.  Exploit  "
      ]
     },
     "execution_count": 18,
     "metadata": {},
     "output_type": "execute_result"
    }
   ],
   "source": [
    "data[data['man_validated_by'] == 'Reviewer4']"
   ]
  },
  {
   "cell_type": "markdown",
   "metadata": {},
   "source": [
    "Since this is an instance of a negative class, it cannot be lost (there are several times fewer negative classes than positive ones, each instance has a weight).\n",
    "\n",
    "We'll fill in the empty values with a stub, since we can't get any information about who checked a particular instance.\n"
   ]
  },
  {
   "cell_type": "code",
   "execution_count": 19,
   "metadata": {},
   "outputs": [],
   "source": [
    "data['man_validated_by'] = data['man_validated_by'].fillna(\"NoReviewer\")"
   ]
  },
  {
   "cell_type": "markdown",
   "metadata": {},
   "source": [
    "##### NLP"
   ]
  },
  {
   "cell_type": "markdown",
   "metadata": {},
   "source": [
    "And finally, the most interesting and informative column of the entire dataset is `comment`.\n",
    "It's easy to see that it contains patterns that can help determine the final class.\n",
    "\n",
    "The first thing to look for is suspicious words that directly indicate that the copy is somehow an `exploit` or `financial scam`.\n",
    "\n",
    "I've identified the following words that can help categorize an instance: `fraud`, `scam`, `phishing`, `ponzi`, `exploit`, `hack`, `steal`, `fake`, `suspicious`, `malicious`.\n",
    "\n",
    "To find these words and modified forms, I will use `lemmatization`.\n",
    "Also, we should not forget that there are negative constructions with these words, which, on the contrary, say that the instance is clean.\n",
    "Below is the implementation of the algorithm that creates a column with suspicious words removed from the comments.\n"
   ]
  },
  {
   "cell_type": "code",
   "execution_count": null,
   "metadata": {},
   "outputs": [
    {
     "data": {
      "text/html": [
       "<div>\n",
       "<style scoped>\n",
       "    .dataframe tbody tr th:only-of-type {\n",
       "        vertical-align: middle;\n",
       "    }\n",
       "\n",
       "    .dataframe tbody tr th {\n",
       "        vertical-align: top;\n",
       "    }\n",
       "\n",
       "    .dataframe thead th {\n",
       "        text-align: right;\n",
       "    }\n",
       "</style>\n",
       "<table border=\"1\" class=\"dataframe\">\n",
       "  <thead>\n",
       "    <tr style=\"text-align: right;\">\n",
       "      <th></th>\n",
       "      <th>comment</th>\n",
       "      <th>suspect_terms</th>\n",
       "    </tr>\n",
       "  </thead>\n",
       "  <tbody>\n",
       "    <tr>\n",
       "      <th>3</th>\n",
       "      <td>Data additionally gathered from Rekt db</td>\n",
       "      <td>[]</td>\n",
       "    </tr>\n",
       "    <tr>\n",
       "      <th>17</th>\n",
       "      <td>Trade bot</td>\n",
       "      <td>[]</td>\n",
       "    </tr>\n",
       "    <tr>\n",
       "      <th>21</th>\n",
       "      <td>Tries to mint something then transfer</td>\n",
       "      <td>[]</td>\n",
       "    </tr>\n",
       "    <tr>\n",
       "      <th>23</th>\n",
       "      <td>Balancer Exploiter</td>\n",
       "      <td>[exploiter]</td>\n",
       "    </tr>\n",
       "    <tr>\n",
       "      <th>24</th>\n",
       "      <td>Rugpull, owner used \"backdoor\" function to inf...</td>\n",
       "      <td>[]</td>\n",
       "    </tr>\n",
       "    <tr>\n",
       "      <th>26</th>\n",
       "      <td>Doesnt look malicious</td>\n",
       "      <td>[]</td>\n",
       "    </tr>\n",
       "    <tr>\n",
       "      <th>30</th>\n",
       "      <td>Trade bot</td>\n",
       "      <td>[]</td>\n",
       "    </tr>\n",
       "    <tr>\n",
       "      <th>31</th>\n",
       "      <td>Hedgey Finance's exploit</td>\n",
       "      <td>[exploit]</td>\n",
       "    </tr>\n",
       "    <tr>\n",
       "      <th>32</th>\n",
       "      <td>Looks scammy</td>\n",
       "      <td>[scammy]</td>\n",
       "    </tr>\n",
       "    <tr>\n",
       "      <th>33</th>\n",
       "      <td>GMXRebalance</td>\n",
       "      <td>[]</td>\n",
       "    </tr>\n",
       "  </tbody>\n",
       "</table>\n",
       "</div>"
      ],
      "text/plain": [
       "                                              comment suspect_terms\n",
       "3             Data additionally gathered from Rekt db            []\n",
       "17                                          Trade bot            []\n",
       "21              Tries to mint something then transfer            []\n",
       "23                                 Balancer Exploiter   [exploiter]\n",
       "24  Rugpull, owner used \"backdoor\" function to inf...            []\n",
       "26                              Doesnt look malicious            []\n",
       "30                                          Trade bot            []\n",
       "31                           Hedgey Finance's exploit     [exploit]\n",
       "32                                       Looks scammy      [scammy]\n",
       "33                                       GMXRebalance            []"
      ]
     },
     "execution_count": 20,
     "metadata": {},
     "output_type": "execute_result"
    }
   ],
   "source": [
    "# spacy download en_core_web_sm\n",
    "nlp = spacy.load('en_core_web_sm')\n",
    "\n",
    "suspect_keywords = [\n",
    "    \"fraud\", \"scam\", \"phish\", \"phishing\", \"ponzi\", \n",
    "    \"exploit\", \"hack\", \"launder\", \"steal\", \"fake\", \"suspicious\", \"malicious\"\n",
    "]\n",
    "\n",
    "def is_partial_match(token_lemma: str, keywords: list) -> bool:\n",
    "    \"\"\"\n",
    "    Check if the lemma occurs partially in one of the keywords\n",
    "    OR the keyword occurs partially in a lemma.\n",
    "    \"\"\"\n",
    "    for kw in keywords:\n",
    "        if kw in token_lemma or token_lemma in kw:\n",
    "            return True\n",
    "    return False\n",
    "\n",
    "def is_negated(token) -> bool:\n",
    "    \"\"\"\n",
    "    Check if the token or its ancestors have a negative dependency (dep_ == 'neg').\n",
    "    If yes, we consider that this token is negated (e.g., “not malicious”).\n",
    "    \"\"\"\n",
    "    \n",
    "    for child in token.children:\n",
    "        if child.dep_ == 'neg':\n",
    "            return True\n",
    "    \n",
    "    for ancestor in token.ancestors:\n",
    "        for child in ancestor.children:\n",
    "            if child.dep_ == 'neg':\n",
    "                return True\n",
    "    \n",
    "    return False\n",
    "\n",
    "def extract_suspect_words_spacy(comment, keywords, nlp_model):\n",
    "    \n",
    "    if not isinstance(comment, str):\n",
    "        return []\n",
    "    \n",
    "    doc = nlp_model(comment.lower())\n",
    "\n",
    "    found = []\n",
    "    for token in doc:\n",
    "        if token.is_alpha and not token.is_stop and len(token.lemma_) >= 3:\n",
    "            if is_partial_match(token.lemma_, keywords):\n",
    "                if not is_negated(token):\n",
    "                    found.append(token.text)\n",
    "    \n",
    "    return found\n",
    "\n",
    "data[\"suspect_terms\"] = data[\"comment\"].apply(\n",
    "    lambda c: extract_suspect_words_spacy(c, suspect_keywords, nlp)\n",
    ")\n",
    "\n",
    "data[data['comment'].notna()][['comment', 'suspect_terms']].head(10)"
   ]
  },
  {
   "cell_type": "markdown",
   "metadata": {},
   "source": [
    "Let's check which words were selected by the algorithm and how many instances were marked."
   ]
  },
  {
   "cell_type": "code",
   "execution_count": 21,
   "metadata": {},
   "outputs": [
    {
     "name": "stdout",
     "output_type": "stream",
     "text": [
      "Number of rows with suspect terms: 276\n",
      "\n",
      "Value counts in suspect_terms\n",
      "[]                       3643\n",
      "[exploit]                 107\n",
      "[ponzi]                    34\n",
      "[defihacklabs]             23\n",
      "[fake]                     20\n",
      "[scam]                     17\n",
      "[malicious]                15\n",
      "[phishing]                 11\n",
      "[exploiter]                 9\n",
      "[suspicious]                8\n",
      "[scammy]                    6\n",
      "[hack]                      4\n",
      "[mal]                       3\n",
      "[exploit, exploit]          2\n",
      "[sus]                       2\n",
      "[hacker]                    1\n",
      "[exploit, malicious]        1\n",
      "[suspicious, exploit]       1\n",
      "[fake, scammer]             1\n",
      "[scammers]                  1\n",
      "[exploit, exploiter]        1\n",
      "[ponzinomics]               1\n",
      "[scammy, phishing]          1\n",
      "Name: count, dtype: int64\n"
     ]
    }
   ],
   "source": [
    "print(f\"Number of rows with suspect terms: {data['suspect_terms'].apply(len).sum()}\", end='\\n\\n')\n",
    "print(f\"Value counts in {data['suspect_terms'].value_counts()}\")"
   ]
  },
  {
   "cell_type": "markdown",
   "metadata": {},
   "source": [
    "Saving an intermediate state for empirical evaluation."
   ]
  },
  {
   "cell_type": "code",
   "execution_count": 22,
   "metadata": {},
   "outputs": [],
   "source": [
    "temp = data[data['comment'].notna()][['comment', 'suspect_terms', 'label']]\n",
    "temp.to_csv('comment-suspect_terms-label.csv', index=False)"
   ]
  },
  {
   "cell_type": "markdown",
   "metadata": {},
   "source": [
    "Now, let's check if there are any instances where the highlighted suspicious words are in the positive (clean) class:"
   ]
  },
  {
   "cell_type": "code",
   "execution_count": 23,
   "metadata": {},
   "outputs": [
    {
     "data": {
      "text/html": [
       "<div>\n",
       "<style scoped>\n",
       "    .dataframe tbody tr th:only-of-type {\n",
       "        vertical-align: middle;\n",
       "    }\n",
       "\n",
       "    .dataframe tbody tr th {\n",
       "        vertical-align: top;\n",
       "    }\n",
       "\n",
       "    .dataframe thead th {\n",
       "        text-align: right;\n",
       "    }\n",
       "</style>\n",
       "<table border=\"1\" class=\"dataframe\">\n",
       "  <thead>\n",
       "    <tr style=\"text-align: right;\">\n",
       "      <th></th>\n",
       "      <th>comment</th>\n",
       "      <th>suspect_terms</th>\n",
       "      <th>label</th>\n",
       "    </tr>\n",
       "  </thead>\n",
       "  <tbody>\n",
       "  </tbody>\n",
       "</table>\n",
       "</div>"
      ],
      "text/plain": [
       "Empty DataFrame\n",
       "Columns: [comment, suspect_terms, label]\n",
       "Index: []"
      ]
     },
     "execution_count": 23,
     "metadata": {},
     "output_type": "execute_result"
    }
   ],
   "source": [
    "data[data['suspect_terms'].apply(lambda x: len(x) > 0) & data['label'] == 'Clean'][['comment', 'suspect_terms', 'label']]"
   ]
  },
  {
   "cell_type": "markdown",
   "metadata": {},
   "source": [
    "As you can see, none of the clean instances were affected, so the algorithm can be considered successful.\n",
    "\n",
    "Let's remove the comment column, since we have already extracted the information we need from there."
   ]
  },
  {
   "cell_type": "code",
   "execution_count": 24,
   "metadata": {},
   "outputs": [],
   "source": [
    "data.drop('comment', axis=1, inplace=True)"
   ]
  },
  {
   "cell_type": "markdown",
   "metadata": {},
   "source": [
    "The final state of the dataset:"
   ]
  },
  {
   "cell_type": "code",
   "execution_count": 25,
   "metadata": {},
   "outputs": [
    {
     "name": "stdout",
     "output_type": "stream",
     "text": [
      "<class 'pandas.core.frame.DataFrame'>\n",
      "Index: 3912 entries, 0 to 3922\n",
      "Data columns (total 9 columns):\n",
      " #   Column            Non-Null Count  Dtype \n",
      "---  ------            --------------  ----- \n",
      " 0   address           3912 non-null   object\n",
      " 1   chain_id          3912 non-null   int64 \n",
      " 2   bytecode          3912 non-null   object\n",
      " 3   opcode            3912 non-null   object\n",
      " 4   data_source       3912 non-null   object\n",
      " 5   man_validated     3912 non-null   object\n",
      " 6   man_validated_by  3912 non-null   object\n",
      " 7   label             3912 non-null   object\n",
      " 8   suspect_terms     3912 non-null   object\n",
      "dtypes: int64(1), object(8)\n",
      "memory usage: 434.7+ KB\n"
     ]
    }
   ],
   "source": [
    "data.info()"
   ]
  },
  {
   "cell_type": "markdown",
   "metadata": {},
   "source": [
    "### EDA"
   ]
  },
  {
   "cell_type": "markdown",
   "metadata": {},
   "source": [
    "Let's move on to the general analysis, for those columns that we have not yet analyzed.\n",
    "\n",
    "We will also determine how the categorical columns affect the result of the final `label`.\n",
    "\n",
    "The first step is to print the distribution in the `label`."
   ]
  },
  {
   "cell_type": "code",
   "execution_count": 26,
   "metadata": {},
   "outputs": [
    {
     "data": {
      "image/png": "[encoded data removed]",
      "text/plain": [
       "<Figure size 600x600 with 1 Axes>"
      ]
     },
     "metadata": {},
     "output_type": "display_data"
    }
   ],
   "source": [
    "label_counts = data['label'].value_counts()\n",
    "\n",
    "sns.set_theme(style=\"whitegrid\")\n",
    "\n",
    "fig, ax = plt.subplots(figsize=(6, 6))\n",
    "\n",
    "wedges, texts, autotexts = ax.pie(\n",
    "    label_counts,\n",
    "    labels=None,\n",
    "    autopct='%1.1f%%',\n",
    "    startangle=250,\n",
    "    colors=sns.color_palette(\"cubehelix\"),\n",
    "    textprops={'fontsize': 12, 'weight': 'bold', \"color\": \"white\"}\n",
    ")\n",
    "\n",
    "for i, wedge in enumerate(wedges):\n",
    "    angle = (wedge.theta1 + wedge.theta2) / 2\n",
    "    x = 1.15 * np.cos(np.radians(angle))\n",
    "    y = 1.15 * np.sin(np.radians(angle))\n",
    "    ax.text(x, y, label_counts.index[i], ha='center', va='center', fontsize=12, weight='bold')\n",
    "\n",
    "ax.set_title(\"Distribution of Labels\", fontsize=16, weight='bold')\n",
    "\n",
    "plt.tight_layout()\n",
    "plt.show()\n"
   ]
  },
  {
   "cell_type": "markdown",
   "metadata": {},
   "source": [
    "The distribution is neither too good nor too bad - ~15% belong to the negative class in the binary classification. \n",
    "\n",
    "If we talk about multi-class, the situation is more complicated and, theoretically, the model will be harder to train.\n",
    "\n",
    "Let's try to plot the distribution of categorical data in relation to our `label`. Below is the code for creating a general graph."
   ]
  },
  {
   "cell_type": "code",
   "execution_count": 27,
   "metadata": {},
   "outputs": [],
   "source": [
    "sns.set_theme(style=\"darkgrid\")\n",
    "\n",
    "def plot_combined_histogram(data, column_name, title_name, color_lst):\n",
    "    chain_counts = data[column_name].value_counts()\n",
    "    all_ids = chain_counts.index\n",
    "\n",
    "    def plot_histogram(sub_data, label, ax, color, offset, total_labels=3):\n",
    "        subset = sub_data[sub_data['label'] == label]\n",
    "        count_series = subset[column_name].value_counts()\n",
    "        y_values = [count_series.get(cid, 0) for cid in all_ids]\n",
    "        x = np.arange(len(all_ids))\n",
    "        width = 0.8 / total_labels\n",
    "        bars = ax.bar(x + offset * width, y_values, width=width, color=color, label=label)\n",
    "        for bar in bars:\n",
    "            height = bar.get_height()\n",
    "            ax.annotate(f'{height}', xy=(bar.get_x() + bar.get_width() / 2, height), xytext=(0, 2), textcoords=\"offset points\", ha='center', va='bottom', fontsize=9)\n",
    "\n",
    "    fig, ax = plt.subplots(figsize=(10, 5))\n",
    "    \n",
    "\n",
    "    plot_histogram(data, 'Clean', ax, color_lst[0], 0, total_labels=3)\n",
    "    plot_histogram(data, 'Exploit', ax, color_lst[1], 1, total_labels=3)\n",
    "    plot_histogram(data, 'FinancialScam', ax, color_lst[2], 2, total_labels=3)\n",
    "\n",
    "    x = np.arange(len(all_ids))\n",
    "    width = 0.8 / 3\n",
    "    ax.set_xticks(x + width)\n",
    "    ax.set_xticklabels(all_ids)\n",
    "    ax.set_xlabel(column_name)\n",
    "    ax.set_title(title_name)\n",
    "    ax.legend()\n",
    "    plt.tight_layout()\n",
    "    plt.show()"
   ]
  },
  {
   "cell_type": "code",
   "execution_count": 28,
   "metadata": {},
   "outputs": [
    {
     "data": {
      "image/png": "[encoded data removed]",
      "text/plain": [
       "<Figure size 1000x500 with 1 Axes>"
      ]
     },
     "metadata": {},
     "output_type": "display_data"
    }
   ],
   "source": [
    "plot_combined_histogram(data, 'chain_id', 'Chain ID distribution by Label', ['wheat', 'teal', 'darkslategray'])"
   ]
  },
  {
   "cell_type": "markdown",
   "metadata": {},
   "source": [
    "What conclusions can be drawn:\n",
    "- The most secure blockchain is the one with a unique number 1 (percentage-wise, it has the lowest number of `exploits` and `scam`).\n",
    "- The most vulnerable was 56, as the number of net contracts almost corresponds to the sum of `exploits` and `financial scam`.\n",
    "- For the 43114, 10, and 99999 chains, there is too little information to draw any specific conclusions. "
   ]
  },
  {
   "cell_type": "code",
   "execution_count": 29,
   "metadata": {},
   "outputs": [
    {
     "data": {
      "image/png": "[encoded data removed]",
      "text/plain": [
       "<Figure size 1000x500 with 1 Axes>"
      ]
     },
     "metadata": {},
     "output_type": "display_data"
    }
   ],
   "source": [
    "plot_combined_histogram(data, 'data_source', 'Data Source distribution by Label', ['mediumslateblue', 'darkblue', 'gold'])"
   ]
  },
  {
   "cell_type": "markdown",
   "metadata": {},
   "source": [
    "White_Lists, respectively, is the preservation of guaranteed clean contracts, so all values there are positive.\n",
    "\n",
    "If we talk about the category dominated by negative classes - Public_Historical_Data - it is obvious that these are selected vivid examples of fraudulent smart contracts. \n",
    "It is on the basis of this historical data that we will be able to train the model to recognize fraudulent contracts in the future."
   ]
  },
  {
   "cell_type": "markdown",
   "metadata": {},
   "source": [
    "### Conclusions"
   ]
  },
  {
   "cell_type": "markdown",
   "metadata": {},
   "source": [
    "- In this paper, we analyzed the smart contract data, where the vast majority (~85%) are clean contracts.\n",
    "- The dataset was checked for possible empty or duplicate data so that no conflicts would arise in the future when training potential models.\n",
    "- Due to my lack of expertise, the bytecode and opcode columns were processed only at a surface level. With the right knowledge, I'm sure they can provide even more information. \n",
    "- In the absence of bytecode and opcode processing, the main marker for identifying fraudulent smart contracts was the comment column, from which the necessary data was extracted using lemmatization to create a separate category containing marker words.\n",
    "\n",
    "Thank you for your time. The work was done by `Vladyslav Volokitin`."
   ]
  }
 ],
 "metadata": {
  "kernelspec": {
   "display_name": "venv",
   "language": "python",
   "name": "python3"
  },
  "language_info": {
   "codemirror_mode": {
    "name": "ipython",
    "version": 3
   },
   "file_extension": ".py",
   "mimetype": "text/x-python",
   "name": "python",
   "nbconvert_exporter": "python",
   "pygments_lexer": "ipython3",
   "version": "3.12.7"
  }
 },
 "nbformat": 4,
 "nbformat_minor": 2
}
